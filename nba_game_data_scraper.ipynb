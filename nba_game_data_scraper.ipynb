{
 "cells": [
  {
   "cell_type": "markdown",
   "metadata": {
    "id": "8jTR1So6ILSQ"
   },
   "source": [
    " # TODO 3: May need to do some data cleaning - reference tutorial\n",
    " # TODO 4: Relook at algorithm runtime"
   ]
  },
  {
   "cell_type": "markdown",
   "metadata": {
    "id": "_6fhwCQ2k97o"
   },
   "source": [
    "# Setup"
   ]
  },
  {
   "cell_type": "code",
   "execution_count": 79,
   "metadata": {
    "colab": {
     "base_uri": "https://localhost:8080/"
    },
    "id": "9N2G5nFy-zxi",
    "outputId": "faeb85b0-98a9-41ad-89a5-36e71e6a0283"
   },
   "outputs": [
    {
     "name": "stdout",
     "output_type": "stream",
     "text": [
      "Mounted at /drive\n"
     ]
    }
   ],
   "source": [
    "# Required libraries\n",
    "from urllib.request import urlopen\n",
    "from bs4 import BeautifulSoup\n",
    "import pandas as pd\n",
    "import numpy as np\n",
    "\n",
    "# Mount google drive\n",
    "from google.colab import drive\n",
    "drive.mount(\"/drive\")\n",
    "\n",
    "# Configuration of script - Change these\n",
    "GOOGLE_FOLDER_PATH = \"temp_data\"\n",
    "CSV_FILE_NAME = \"nba_data_2018\"\n",
    "SEASON_YEAR = 2018 # e.g. 2018 will give schedule for 2017-2018"
   ]
  },
  {
   "cell_type": "markdown",
   "metadata": {
    "id": "tcK5kXAvVcE0"
   },
   "source": [
    "# Define constants"
   ]
  },
  {
   "cell_type": "code",
   "execution_count": 76,
   "metadata": {
    "id": "_aL3lsOoNQ1n"
   },
   "outputs": [],
   "source": [
    "NBA_NAMES = {\n",
    "    \"Atlanta Hawks\": \"ATL\",\n",
    "    \"Boston Celtics\": \"BOS\",\n",
    "    \"Cleveland Cavaliers\": \"CLE\",\n",
    "    \"Chicago Bulls\": \"CHI\",\n",
    "    \"Golden State Warriors\": \"GSW\",\n",
    "    \"Los Angeles Clippers\": \"LAC\",\n",
    "    \"Charlotte Hornets\": \"CHO\", # No idea, but basketball reference lists Charlotte as CHO\n",
    "    \"Dallas Mavericks\": \"DAL\",\n",
    "    \"Denver Nuggets\": \"DEN\",\n",
    "    \"Detroit Pistons\": \"DET\",\n",
    "    \"Houston Rockets\": \"HOU\",\n",
    "    \"Los Angeles Lakers\": \"LAL\",\n",
    "    \"Indiana Pacers\": \"IND\",\n",
    "    \"Minnesota Timberwolves\": \"MIN\",\n",
    "    \"Milwaukee Bucks\": \"MIL\",\n",
    "    \"Memphis Grizzlies\": \"MEM\",\n",
    "    \"Miami Heat\": \"MIA\",\n",
    "    \"New York Knicks\": \"NYK\",\n",
    "    \"New Orleans Pelicans\": \"NOP\",\n",
    "    \"Philadelphia 76ers\": \"PHI\",\n",
    "    \"Oklahoma City Thunder\": \"OKC\",\n",
    "    \"Orlando Magic\": \"ORL\",\n",
    "    \"Portland Trail Blazers\": \"POR\",\n",
    "    \"Sacramento Kings\": \"SAC\",\n",
    "    \"Toronto Raptors\": \"TOR\",\n",
    "    \"San Antonio Spurs\": \"SAS\",\n",
    "    \"Brooklyn Nets\": \"BRK\", # Another inconsistency of basketball reference tag\n",
    "    \"Utah Jazz\": \"UTA\",\n",
    "    \"Phoenix Suns\": \"PHO\", # Or PHX\n",
    "    \"Washington Wizards\": \"WAS\" # Alternative is WSH\n",
    "}\n",
    "\n",
    "MONTHS = [\"october\", \"november\", \"december\", \"january\", \"february\", \"march\", \"april\", \"may\", \"june\"]\n",
    "MONTHS_2019_2020 = [\"october-2019\"] + MONTHS[1:6] + [\"july\", \"august\", \"september\", \"october-2020\"]\n",
    "MONTHS_2020_2021 = MONTHS[2:]\n",
    "\n",
    "if SEASON_YEAR == 2020:\n",
    "  months_played = MONTHS_2019_2020\n",
    "elif SEASON_YEAR == 2021:\n",
    "  months_played = MONTHS_2020_2021\n",
    "else:\n",
    "  months_played = MONTHS\n",
    "\n",
    "GAME_BOXSCORE_HEADERS = ['Team Name/Date played/Timeframe', 'MP', 'FG', 'FGA', 'FG%', '3P', '3PA', '3P%', 'FT', 'FTA', 'FT%', 'ORB', 'DRB', 'TRB', 'AST', 'STL', 'BLK', 'TOV', 'PF', 'PTS', '+/-']\n",
    "TIMEFRAMES = [\"q1\", \"q2\", \"q3\", \"q4\", \"h1\", \"h2\"]"
   ]
  },
  {
   "cell_type": "markdown",
   "metadata": {
    "id": "F8CWPjLiVinX"
   },
   "source": [
    "# Helper functions"
   ]
  },
  {
   "cell_type": "code",
   "execution_count": 81,
   "metadata": {
    "id": "PIdOlS4vk0AS"
   },
   "outputs": [],
   "source": [
    "# @return: 2d array of team stats, two rows (one per team) for the specified timeframe\n",
    "# @param{tree}: The html of the game page\n",
    "# @param{date_played}: String of date played in human readable format\n",
    "# @param{timeframe}: String of the timeframe to extract row data from\n",
    "\n",
    "def retrieve_data_for_game(tree, team_names, date_played, timeframe):\n",
    "  game_data_row = []\n",
    "  for name in team_names:\n",
    "    team_table = tree.findAll(\"div\", {\"class\": f\"section_wrapper toggleable box-{name} box-{name}-{timeframe}\"})\n",
    "    team_total_row = team_table[0](\"tfoot\")[0](\"td\")\n",
    "    team_timeframe_data = [name + \" \" + date_played + \" \" + timeframe.upper()] + [td.getText() for td in team_total_row]\n",
    "\n",
    "    game_data_row.append(np.array(team_timeframe_data)[np.newaxis][0])\n",
    "  \n",
    "  return game_data_row"
   ]
  },
  {
   "cell_type": "code",
   "execution_count": 22,
   "metadata": {
    "id": "kQXDNoQpSS5s"
   },
   "outputs": [],
   "source": [
    "# @return: A mapping of strings representing the date values needed to construct the game url\n",
    "# @param{game_soup}: The html object of the game row\n",
    "def extract_values_for_game_url(game_soup):\n",
    "  date_YYYYMMDD = game_soup.findAll(\"th\")[0][\"csk\"]\n",
    "  year = date_YYYYMMDD[:4]\n",
    "  month = date_YYYYMMDD[4:6]\n",
    "  day = date_YYYYMMDD[6:8]\n",
    "  home_tag = date_YYYYMMDD[9:]\n",
    "\n",
    "  return {\n",
    "      \"year\": year,\n",
    "      \"month\": month,\n",
    "      \"day\": day,\n",
    "      \"home_tag\": home_tag\n",
    "  }"
   ]
  },
  {
   "cell_type": "code",
   "execution_count": 23,
   "metadata": {
    "id": "7e_Gq3uHTpGQ"
   },
   "outputs": [],
   "source": [
    "# @return: A mapping of strings representing the date and team names for the scrape of individual game\n",
    "# @param{game_soup}: The html object of the game row\n",
    "def extract_values_for_game_scrape(game_soup):\n",
    "  date_readable = game_soup.findAll(\"th\")[0].getText()\n",
    "  away_name = game_soup.findAll(\"td\")[1].getText()\n",
    "  home_name = game_soup.findAll(\"td\")[3].getText()\n",
    "\n",
    "  return {\n",
    "      \"date\": date_readable,\n",
    "      \"away_name\": NBA_NAMES[away_name],\n",
    "      \"home_name\": NBA_NAMES[home_name]\n",
    "  }"
   ]
  },
  {
   "cell_type": "markdown",
   "metadata": {
    "id": "RSaeKLRlVWuv"
   },
   "source": [
    "# Scraping basketball-reference"
   ]
  },
  {
   "cell_type": "markdown",
   "metadata": {
    "id": "5dXm6wLvVufw"
   },
   "source": [
    "### First, we extract all html rows for games that have been played into a list season_games."
   ]
  },
  {
   "cell_type": "code",
   "execution_count": 37,
   "metadata": {
    "colab": {
     "base_uri": "https://localhost:8080/"
    },
    "id": "jndGt5wMBdzl",
    "outputId": "d3758528-5680-4860-abb6-e51f62cb97ba"
   },
   "outputs": [
    {
     "name": "stdout",
     "output_type": "stream",
     "text": [
      "Playoffs removed\n"
     ]
    }
   ],
   "source": [
    "season_games = []\n",
    "\n",
    "for month in months_played:\n",
    "  schedule_url = f\"https://www.basketball-reference.com/leagues/NBA_{SEASON_YEAR}_games-{month}.html\"\n",
    "  html_schedule = urlopen(schedule_url)\n",
    "  soup_schedule = BeautifulSoup(html_schedule, features=\"lxml\")\n",
    "\n",
    "  game_rows_for_month = soup_schedule.findAll(\"tbody\")[0](\"tr\")\n",
    "  season_games += game_rows_for_month\n",
    "\n",
    "# Clean an uneeded header row. - TODO: Find a better way to do this.\n",
    "for i in range(len(season_games) - 1):\n",
    "  if season_games[i].find(\"th\").getText() == \"Playoffs\":\n",
    "    print(season_games[i].find(\"th\").getText() + \" removed\")\n",
    "    season_games = season_games[:i] + season_games[i+1:]\n",
    "\n",
    "print(len(season_games) \" games retrieved.\")"
   ]
  },
  {
   "cell_type": "markdown",
   "metadata": {
    "id": "DJs8jKVdWFAr"
   },
   "source": [
    "### Main logic below. For each table row representing a game, we need to construct the URL to the specific boxscore game, and then scrape for team totals. We will have 12 rows of data per boxscore game, 6 timeframes for two teams.\n",
    "\n",
    "Each row will be appended to the dataframe."
   ]
  },
  {
   "cell_type": "code",
   "execution_count": null,
   "metadata": {
    "id": "6bJ4uf8lE8zG"
   },
   "outputs": [],
   "source": [
    "results = []\n",
    "\n",
    "# Loop through all games played in season\n",
    "# Runtime: (# of games)(6 timeframes)(2 teams)\n",
    "for game_html_row in season_games:\n",
    "  # Extract values for dynamic URL construction\n",
    "  game_url_metadata = extract_values_for_game_url(game_html_row)\n",
    "\n",
    "  year = game_url_metadata[\"year\"]\n",
    "  month = game_url_metadata[\"month\"]\n",
    "  day = game_url_metadata[\"day\"]\n",
    "  home_tag = game_url_metadata[\"home_tag\"]\n",
    "\n",
    "  # Setup game url\n",
    "  game_url = f\"https://www.basketball-reference.com/boxscores/{year}{month}{day}0{home_tag}.html\"\n",
    "  html_game = urlopen(game_url)\n",
    "  soup_game = BeautifulSoup(html_game, features=\"lxml\")\n",
    "\n",
    "  # Extract date and team names from game row\n",
    "  game_scrape_metadata = extract_values_for_game_scrape(game_html_row)\n",
    "\n",
    "  # print(home_tag + year + month + day)\n",
    "  for timeframe in TIMEFRAMES:\n",
    "    rows_timeframe = retrieve_data_for_game(soup_game, [game_scrape_metadata[\"away_name\"], game_scrape_metadata[\"home_name\"]], game_scrape_metadata[\"date\"], timeframe)\n",
    "    results += rows_timeframe\n",
    "\n",
    "print(len(results) + \" rows generated\")"
   ]
  },
  {
   "cell_type": "markdown",
   "metadata": {
    "id": "jWH54L93bAaB"
   },
   "source": [
    "# Finally, export the results as a dataframe to a CSV file."
   ]
  },
  {
   "cell_type": "code",
   "execution_count": 80,
   "metadata": {
    "id": "Ls9WSdfWTRNI"
   },
   "outputs": [],
   "source": [
    "data_export = pd.DataFrame(results, columns = GAME_BOXSCORE_HEADERS)\n",
    "data_export.head()\n",
    "data_export.to_csv(r\"/drive/My Drive/{google_folder_path}/{csv_file_name}.csv\".format(google_folder_path=GOOGLE_FOLDER_PATH, csv_file_name=CSV_FILE_NAME), index=False, encoding=\"utf-8\")"
   ]
  },
  {
   "cell_type": "markdown",
   "metadata": {
    "id": "TXJxQXf4VYiI"
   },
   "source": [
    "# Ignore - Cell below is for manual debugging of pages. Uncomment if needed."
   ]
  },
  {
   "cell_type": "code",
   "execution_count": 68,
   "metadata": {
    "colab": {
     "base_uri": "https://localhost:8080/"
    },
    "id": "Wv4MgStibKRb",
    "outputId": "a29aa4e7-986c-49fb-98ea-5a150662ecee"
   },
   "outputs": [
    {
     "name": "stdout",
     "output_type": "stream",
     "text": [
      "[array(['CHO October 18, 2017', '60', '7', '16', '.438', '2', '6', '.333',\n",
      "       '11', '12', '.917', '1', '11', '12', '4', '0', '1', '4', '3', '27',\n",
      "       ''], dtype='<U20'), array(['DET October 18, 2017', '60', '13', '25', '.520', '2', '5', '.400',\n",
      "       '1', '2', '.500', '0', '8', '8', '7', '4', '0', '1', '7', '29', ''],\n",
      "      dtype='<U20')]\n"
     ]
    }
   ],
   "source": [
    "# # Open URL\n",
    "# hardcode_page = \"https://www.basketball-reference.com/boxscores/201710180DET.html\"\n",
    "# html = urlopen(hardcode_page)\n",
    "# soup = BeautifulSoup(html, features=\"lxml\")\n",
    "\n",
    "# # Extract team names and date\n",
    "# game_metadata = soup.findAll(\"h1\")[0].getText().split(\" at \")\n",
    "# team1_name = NBA_NAMES[game_metadata[0]]\n",
    "# team2_name = NBA_NAMES[game_metadata[1].split(\" Box\")[0]]\n",
    "# date = ', '.join(game_metadata[1].split(\", \")[1:])\n",
    "\n",
    "# # Extract headers\n",
    "# headers = [th.getText() for th in soup.findAll(\"tr\", limit=2)[1](\"th\")]\n",
    "# headers[0] = \"Team Name, Date played\"\n",
    "\n",
    "# def retrieve_data_for_game_temp(tree, team_names, date_played):\n",
    "#   final_rows = []\n",
    "#   for name in team_names:\n",
    "#     team_table = tree.findAll(\"div\", {\"class\": f\"section_wrapper toggleable box-{name} box-{name}-q1\"}) \n",
    "#     team_total_row = team_table[0](\"tfoot\")[0](\"td\")\n",
    "#     team_q1_data = [name + \" \" + date_played] + [td.getText() for td in team_total_row]\n",
    "\n",
    "#     final_rows.append(np.array(team_q1_data)[np.newaxis][0])\n",
    "  \n",
    "#   return final_rows\n",
    "\n",
    "# # team_table = soup.findAll(\"div\", {\"class\": f\"section_wrapper toggleable box-CHA box-CHA-q1\"})\n",
    "# # print(team_table) \n",
    "# data_for_one_game = retrieve_data_for_game_temp(soup, [team1_name, team2_name], date) # TODO: Temporary output  \n",
    "# print(data_for_one_game)"
   ]
  }
 ],
 "metadata": {
  "colab": {
   "collapsed_sections": [
    "_6fhwCQ2k97o",
    "tcK5kXAvVcE0",
    "F8CWPjLiVinX",
    "TXJxQXf4VYiI"
   ],
   "name": "nba_game_data_scraper.ipynb",
   "provenance": []
  },
  "kernelspec": {
   "display_name": "Python 3",
   "language": "python",
   "name": "python3"
  },
  "language_info": {
   "codemirror_mode": {
    "name": "ipython",
    "version": 3
   },
   "file_extension": ".py",
   "mimetype": "text/x-python",
   "name": "python",
   "nbconvert_exporter": "python",
   "pygments_lexer": "ipython3",
   "version": "3.8.8"
  }
 },
 "nbformat": 4,
 "nbformat_minor": 1
}
